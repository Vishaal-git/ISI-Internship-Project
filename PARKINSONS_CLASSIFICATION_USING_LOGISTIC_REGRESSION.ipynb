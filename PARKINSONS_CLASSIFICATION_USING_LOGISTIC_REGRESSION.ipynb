{
  "nbformat": 4,
  "nbformat_minor": 0,
  "metadata": {
    "colab": {
      "provenance": [],
      "authorship_tag": "ABX9TyPZ3REEIo+CL4sU/Qe/7FG9",
      "include_colab_link": true
    },
    "kernelspec": {
      "name": "python3",
      "display_name": "Python 3"
    },
    "language_info": {
      "name": "python"
    }
  },
  "cells": [
    {
      "cell_type": "markdown",
      "metadata": {
        "id": "view-in-github",
        "colab_type": "text"
      },
      "source": [
        "<a href=\"https://colab.research.google.com/github/Vishaal-git/ISI-Internship-Project/blob/main/PARKINSONS_CLASSIFICATION_USING_LOGISTIC_REGRESSION.ipynb\" target=\"_parent\"><img src=\"https://colab.research.google.com/assets/colab-badge.svg\" alt=\"Open In Colab\"/></a>"
      ]
    },
    {
      "cell_type": "code",
      "execution_count": null,
      "metadata": {
        "id": "y7uIasebRJQi"
      },
      "outputs": [],
      "source": [
        "import numpy as np\n",
        "import matplotlib.pyplot as plt\n",
        "import seaborn as sns\n",
        "import pandas as pd\n",
        "from sklearn.preprocessing import StandardScaler\n",
        "from sklearn.model_selection import train_test_split\n",
        "from sklearn.linear_model import LogisticRegression\n",
        "from sklearn.metrics import accuracy_score, classification_report, confusion_matrix\n",
        "from imblearn.over_sampling import SMOTE\n",
        "import warnings\n",
        "from sklearn.exceptions import ConvergenceWarning\n",
        "\n",
        "warnings.filterwarnings(\"ignore\", category=ConvergenceWarning)"
      ]
    },
    {
      "cell_type": "code",
      "source": [
        "df = pd.read_csv('parkinsons.data')"
      ],
      "metadata": {
        "id": "pZKgWVP_RM6p"
      },
      "execution_count": null,
      "outputs": []
    },
    {
      "cell_type": "code",
      "source": [
        "X = df.drop(columns=['name', 'status'], axis=1)\n",
        "Y = df['status']\n",
        "print(\"Features (X) shape:\", X.shape)\n",
        "print(\"Target (Y) shape:\", Y.shape)\n",
        "print(\"-\" * 50)"
      ],
      "metadata": {
        "colab": {
          "base_uri": "https://localhost:8080/"
        },
        "id": "RrLjRPD-RhmF",
        "outputId": "49164807-adb6-4019-93da-49e508d57249"
      },
      "execution_count": null,
      "outputs": [
        {
          "output_type": "stream",
          "name": "stdout",
          "text": [
            "Features (X) shape: (195, 22)\n",
            "Target (Y) shape: (195,)\n",
            "--------------------------------------------------\n"
          ]
        }
      ]
    },
    {
      "cell_type": "code",
      "source": [
        "X_train, X_test, Y_train, Y_test = train_test_split(X, Y, test_size=0.2, random_state=2)\n",
        "\n",
        "print(\"Shapes of the splits:\")\n",
        "print(f\"X_train: {X_train.shape}\")\n",
        "print(f\"X_test:  {X_test.shape}\")\n",
        "print(f\"Y_train: {Y_train.shape}\")\n",
        "print(f\"Y_test:  {Y_test.shape}\")\n",
        "print(\"-\" * 50)"
      ],
      "metadata": {
        "colab": {
          "base_uri": "https://localhost:8080/"
        },
        "id": "1wKrwcn9RnzS",
        "outputId": "1e6e6e0b-da7c-4364-c3a0-d872ccefe1c0"
      },
      "execution_count": null,
      "outputs": [
        {
          "output_type": "stream",
          "name": "stdout",
          "text": [
            "Shapes of the splits:\n",
            "X_train: (156, 22)\n",
            "X_test:  (39, 22)\n",
            "Y_train: (156,)\n",
            "Y_test:  (39,)\n",
            "--------------------------------------------------\n"
          ]
        }
      ]
    },
    {
      "cell_type": "code",
      "source": [
        "scalar = StandardScaler()\n",
        "X_train = scalar.fit_transform(X_train)\n",
        "X_test = scalar.transform(X_test)\n",
        "\n",
        "print(\"Data standardization complete.\")\n",
        "print(\"-\" * 50)"
      ],
      "metadata": {
        "colab": {
          "base_uri": "https://localhost:8080/"
        },
        "id": "o7asZVKBRq5C",
        "outputId": "6d0fad7a-aedd-4c85-af89-1918babe440e"
      },
      "execution_count": null,
      "outputs": [
        {
          "output_type": "stream",
          "name": "stdout",
          "text": [
            "Data standardization complete.\n",
            "--------------------------------------------------\n"
          ]
        }
      ]
    },
    {
      "cell_type": "code",
      "source": [
        "print(\"Class distribution before SMOTE:\")\n",
        "print(pd.Series(Y_train).value_counts())\n",
        "print(\"-\" * 50)\n",
        "smote = SMOTE(random_state=42)\n",
        "X_train_resampled, Y_train_resampled = smote.fit_resample(X_train, Y_train)\n",
        "print(\"Class distribution after SMOTE:\")\n",
        "print(pd.Series(Y_train_resampled).value_counts())\n",
        "print(\"-\" * 50)"
      ],
      "metadata": {
        "colab": {
          "base_uri": "https://localhost:8080/"
        },
        "id": "DEKtjkz4Rvsz",
        "outputId": "379d8744-d6bc-4076-fce0-ea5456719bca"
      },
      "execution_count": null,
      "outputs": [
        {
          "output_type": "stream",
          "name": "stdout",
          "text": [
            "Class distribution before SMOTE:\n",
            "status\n",
            "1    116\n",
            "0     40\n",
            "Name: count, dtype: int64\n",
            "--------------------------------------------------\n",
            "Class distribution after SMOTE:\n",
            "status\n",
            "1    116\n",
            "0    116\n",
            "Name: count, dtype: int64\n",
            "--------------------------------------------------\n"
          ]
        }
      ]
    },
    {
      "cell_type": "code",
      "source": [
        "model_LR = LogisticRegression(max_iter=1000000) # Increased iterations for robustness\n",
        "model_LR.fit(X_train_resampled, Y_train_resampled)\n",
        "\n",
        "print(\"Logistic Regression model trained successfully on resampled data.\")\n",
        "print(\"-\" * 50)"
      ],
      "metadata": {
        "colab": {
          "base_uri": "https://localhost:8080/"
        },
        "id": "5Bv1VnzRR1g9",
        "outputId": "0b433535-a3cc-403b-cf90-b58bc5802a88"
      },
      "execution_count": null,
      "outputs": [
        {
          "output_type": "stream",
          "name": "stdout",
          "text": [
            "Logistic Regression model trained successfully on resampled data.\n",
            "--------------------------------------------------\n"
          ]
        }
      ]
    },
    {
      "cell_type": "code",
      "source": [
        "prediction1 = model_LR.predict(X_test)\n",
        "accuracy = accuracy_score(Y_test, prediction1)\n",
        "print(f\"Accuracy Score: {accuracy * 100:.2f}%\")\n",
        "print(\"-\" * 50)\n",
        "print(\"Classification Report:\")\n",
        "print(classification_report(Y_test, prediction1, zero_division=0))\n",
        "print(\"-\" * 50)\n",
        "cm = confusion_matrix(Y_test, prediction1)\n",
        "class_labels = np.unique(Y)\n",
        "\n",
        "print(\"Confusion Matrix:\")\n",
        "print(cm)\n",
        "print(\"-\" * 50)"
      ],
      "metadata": {
        "colab": {
          "base_uri": "https://localhost:8080/"
        },
        "id": "qxhXtBb5R4Va",
        "outputId": "c06235cf-3f76-45c3-ebe8-389a45bbd428"
      },
      "execution_count": null,
      "outputs": [
        {
          "output_type": "stream",
          "name": "stdout",
          "text": [
            "Accuracy Score: 66.67%\n",
            "--------------------------------------------------\n",
            "Classification Report:\n",
            "              precision    recall  f1-score   support\n",
            "\n",
            "           0       0.35      0.75      0.48         8\n",
            "           1       0.91      0.65      0.75        31\n",
            "\n",
            "    accuracy                           0.67        39\n",
            "   macro avg       0.63      0.70      0.62        39\n",
            "weighted avg       0.80      0.67      0.70        39\n",
            "\n",
            "--------------------------------------------------\n",
            "Confusion Matrix:\n",
            "[[ 6  2]\n",
            " [11 20]]\n",
            "--------------------------------------------------\n"
          ]
        }
      ]
    },
    {
      "cell_type": "code",
      "source": [
        "plt.figure(figsize=(8, 6))\n",
        "sns.heatmap(cm, annot=True, fmt='d', cmap='Blues',\n",
        "            xticklabels=class_labels, yticklabels=class_labels)\n",
        "plt.title('Confusion Matrix')\n",
        "plt.xlabel('Predicted Labels')\n",
        "plt.ylabel('True Labels')\n",
        "plt.show()"
      ],
      "metadata": {
        "colab": {
          "base_uri": "https://localhost:8080/",
          "height": 564
        },
        "id": "8vj_6bh2SCHf",
        "outputId": "e63eaa34-2d57-4d70-c7c2-5df6dda3301b"
      },
      "execution_count": null,
      "outputs": [
        {
          "output_type": "display_data",
          "data": {
            "text/plain": [
              "<Figure size 800x600 with 2 Axes>"
            ],
            "image/png": "[encoded data removed]"
          },
          "metadata": {}
        }
      ]
    }
  ]
}